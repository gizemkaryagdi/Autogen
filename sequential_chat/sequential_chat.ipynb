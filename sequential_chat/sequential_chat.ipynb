{
 "cells": [
  {
   "cell_type": "code",
   "execution_count": 6,
   "metadata": {},
   "outputs": [],
   "source": [
    "import autogen\n",
    "from autogen.agentchat.contrib.retrieve_assistant_agent import RetrieveAssistantAgent\n",
    "from autogen.agentchat.contrib.retrieve_user_proxy_agent import RetrieveUserProxyAgent"
   ]
  },
  {
   "cell_type": "code",
   "execution_count": 7,
   "metadata": {},
   "outputs": [],
   "source": [
    "config_list = [ \n",
    "    {\n",
    "        \"model\": \"llama3\",\n",
    "        \"base_url\": \"http://localhost:11434/v1\",\n",
    "        \"api_key\": \"ollama\",\n",
    "        \"price\": [0.01, 0.02],\n",
    "    }\n",
    "]"
   ]
  },
  {
   "cell_type": "code",
   "execution_count": 8,
   "metadata": {},
   "outputs": [],
   "source": [
    "llm_config={\n",
    "    \"cache_seed\":41,\n",
    "    \"temperature\":0,\n",
    "    \"config_list\":config_list,\n",
    "    \"timeout\":120,\n",
    "}"
   ]
  },
  {
   "cell_type": "code",
   "execution_count": 9,
   "metadata": {},
   "outputs": [],
   "source": [
    "assistant1 = RetrieveAssistantAgent(\n",
    "    name=\"assistant1\",\n",
    "    system_message=\"You are an assistant agent who gives quotes.  Return 'TERMINATE' when the task is done.\",\n",
    "    llm_config=llm_config,\n",
    ")"
   ]
  },
  {
   "cell_type": "code",
   "execution_count": 10,
   "metadata": {},
   "outputs": [],
   "source": [
    "assistant2 = RetrieveAssistantAgent(\n",
    "    name=\"assistant2\",\n",
    "    system_message=\"You are an assistant agent who gives quotes.  Return 'TERMINATE' when the task is done.\",\n",
    "    llm_config=llm_config,\n",
    "    max_consecutive_auto_reply=1\n",
    ")"
   ]
  },
  {
   "cell_type": "code",
   "execution_count": 11,
   "metadata": {},
   "outputs": [],
   "source": [
    "new_create_assistant = RetrieveAssistantAgent(\n",
    "    name=\"assistant3\",\n",
    "    system_message=\"You will create a new quote based on others.  Return 'TERMINATE' when the task is done.\",\n",
    "    llm_config=llm_config,\n",
    "    max_consecutive_auto_reply=1\n",
    ")"
   ]
  },
  {
   "cell_type": "code",
   "execution_count": 12,
   "metadata": {},
   "outputs": [
    {
     "name": "stderr",
     "output_type": "stream",
     "text": [
      "2024-07-16 11:42:09,050 - autogen.agentchat.contrib.retrieve_user_proxy_agent - WARNING - \u001b[33mdocs_path is not provided in retrieve_config. Will raise ValueError if the collection `autogen-docs` doesn't exist. Set docs_path to None to suppress this warning.\u001b[0m\n"
     ]
    }
   ],
   "source": [
    "user_proxy = RetrieveUserProxyAgent(\n",
    "    name=\"user_proxy\",\n",
    "    is_termination_msg=lambda msg: msg.get(\"content\") is not None and \"TERMINATE\" in msg[\"content\"],\n",
    "    human_input_mode=\"NEVER\",\n",
    "    max_consecutive_auto_reply=10,\n",
    "    code_execution_config=False\n",
    ")"
   ]
  },
  {
   "cell_type": "code",
   "execution_count": 14,
   "metadata": {},
   "outputs": [
    {
     "name": "stdout",
     "output_type": "stream",
     "text": [
      "\u001b[34m\n",
      "********************************************************************************\u001b[0m\n",
      "\u001b[34mStarting a new chat....\u001b[0m\n",
      "\u001b[34m\n",
      "********************************************************************************\u001b[0m\n",
      "\u001b[33muser_proxy\u001b[0m (to assistant1):\n",
      "\n",
      "give a quote from a famous author\n",
      "\n",
      "--------------------------------------------------------------------------------\n",
      "\u001b[33massistant1\u001b[0m (to user_proxy):\n",
      "\n",
      "\"The road not taken, by Robert Frost: Two roads diverged in a yellow wood, And sorry I could not travel both...\"\n",
      "\n",
      "--------------------------------------------------------------------------------\n",
      "\u001b[33muser_proxy\u001b[0m (to assistant1):\n",
      "\n",
      "\n",
      "\n",
      "--------------------------------------------------------------------------------\n",
      "\u001b[33massistant1\u001b[0m (to user_proxy):\n",
      "\n",
      "TERMINATE\n",
      "\n",
      "--------------------------------------------------------------------------------\n",
      "\u001b[34m\n",
      "********************************************************************************\u001b[0m\n",
      "\u001b[34mStarting a new chat....\u001b[0m\n",
      "\u001b[34m\n",
      "********************************************************************************\u001b[0m\n",
      "\u001b[33muser_proxy\u001b[0m (to assistant2):\n",
      "\n",
      "give another quote from a famous author\n",
      "Context: \n",
      "\"The road not taken, by Robert Frost: Two roads diverged in a yellow wood, And sorry I could not travel both...\"\n",
      "\n",
      "--------------------------------------------------------------------------------\n",
      "\u001b[33massistant2\u001b[0m (to user_proxy):\n",
      "\n",
      "Here's another quote:\n",
      "\n",
      "\"All happy families are alike; each unhappy family is unhappy in its own way.\" - Leo Tolstoy\n",
      "\n",
      "--------------------------------------------------------------------------------\n",
      "\u001b[33muser_proxy\u001b[0m (to assistant2):\n",
      "\n",
      "\n",
      "\n",
      "--------------------------------------------------------------------------------\n",
      "\u001b[34m\n",
      "********************************************************************************\u001b[0m\n",
      "\u001b[34mStarting a new chat....\u001b[0m\n",
      "\u001b[34m\n",
      "********************************************************************************\u001b[0m\n",
      "\u001b[33muser_proxy\u001b[0m (to assistant3):\n",
      "\n",
      "based on the previous quotes, come up with your own!\n",
      "Context: \n",
      "\"The road not taken, by Robert Frost: Two roads diverged in a yellow wood, And sorry I could not travel both...\"\n",
      "Here's another quote:\n",
      "\n",
      "\"All happy families are alike; each unhappy family is unhappy in its own way.\" - Leo Tolstoy\n",
      "\n",
      "--------------------------------------------------------------------------------\n",
      "\u001b[33massistant3\u001b[0m (to user_proxy):\n",
      "\n",
      "Here's my attempt at creating a new quote based on the given context and themes:\n",
      "\n",
      "\"In the silence of forgotten dreams, every unspoken word echoes with its own unique sorrow.\"\n",
      "\n",
      "TERMINATE\n",
      "\n",
      "--------------------------------------------------------------------------------\n"
     ]
    },
    {
     "data": {
      "text/plain": [
       "[ChatResult(chat_id=None, chat_history=[{'content': 'give a quote from a famous author', 'role': 'assistant'}, {'content': '\"The road not taken, by Robert Frost: Two roads diverged in a yellow wood, And sorry I could not travel both...\"', 'role': 'user'}, {'content': '', 'role': 'assistant'}, {'content': 'TERMINATE', 'role': 'user'}], summary='\"The road not taken, by Robert Frost: Two roads diverged in a yellow wood, And sorry I could not travel both...\"', cost={'usage_including_cached_inference': {'total_cost': 3.12, 'llama3': {'cost': 3.12, 'prompt_tokens': 196, 'completion_tokens': 58, 'total_tokens': 254}}, 'usage_excluding_cached_inference': {'total_cost': 3.12, 'llama3': {'cost': 3.12, 'prompt_tokens': 196, 'completion_tokens': 58, 'total_tokens': 254}}}, human_input=[]),\n",
       " ChatResult(chat_id=None, chat_history=[{'content': 'give another quote from a famous author\\nContext: \\n\"The road not taken, by Robert Frost: Two roads diverged in a yellow wood, And sorry I could not travel both...\"', 'role': 'assistant'}, {'content': 'Here\\'s another quote:\\n\\n\"All happy families are alike; each unhappy family is unhappy in its own way.\" - Leo Tolstoy', 'role': 'user'}, {'content': '', 'role': 'assistant'}], summary='Here\\'s another quote:\\n\\n\"All happy families are alike; each unhappy family is unhappy in its own way.\" - Leo Tolstoy', cost={'usage_including_cached_inference': {'total_cost': 2.81, 'llama3': {'cost': 2.81, 'prompt_tokens': 173, 'completion_tokens': 54, 'total_tokens': 227}}, 'usage_excluding_cached_inference': {'total_cost': 2.81, 'llama3': {'cost': 2.81, 'prompt_tokens': 173, 'completion_tokens': 54, 'total_tokens': 227}}}, human_input=[]),\n",
       " ChatResult(chat_id=None, chat_history=[{'content': 'based on the previous quotes, come up with your own!\\nContext: \\n\"The road not taken, by Robert Frost: Two roads diverged in a yellow wood, And sorry I could not travel both...\"\\nHere\\'s another quote:\\n\\n\"All happy families are alike; each unhappy family is unhappy in its own way.\" - Leo Tolstoy', 'role': 'assistant'}, {'content': 'Here\\'s my attempt at creating a new quote based on the given context and themes:\\n\\n\"In the silence of forgotten dreams, every unspoken word echoes with its own unique sorrow.\"\\n\\nTERMINATE', 'role': 'user'}], summary='Here\\'s my attempt at creating a new quote based on the given context and themes:\\n\\n\"In the silence of forgotten dreams, every unspoken word echoes with its own unique sorrow.\"\\n\\nTERMINATE', cost={'usage_including_cached_inference': {'total_cost': 4.02, 'llama3': {'cost': 4.02, 'prompt_tokens': 246, 'completion_tokens': 78, 'total_tokens': 324}}, 'usage_excluding_cached_inference': {'total_cost': 4.02, 'llama3': {'cost': 4.02, 'prompt_tokens': 246, 'completion_tokens': 78, 'total_tokens': 324}}}, human_input=[])]"
      ]
     },
     "execution_count": 14,
     "metadata": {},
     "output_type": "execute_result"
    }
   ],
   "source": [
    "user_proxy.initiate_chats(\n",
    "    [\n",
    "        {\n",
    "            \"recipient\": assistant1,\n",
    "            \"message\": \"give a quote from a famous author\",\n",
    "            \"clear_history\": True,\n",
    "            \"silent\": False,\n",
    "            \"summary_method\": \"reflection_with_llm\"\n",
    "        },\n",
    "        {\n",
    "            \"recipient\": assistant2,\n",
    "            \"message\": \"give another quote from a famous author\",\n",
    "            \"clear_history\": True,\n",
    "            \"silent\": False,\n",
    "            \"summary_method\": \"reflection_with_llm\"\n",
    "        },\n",
    "        {\n",
    "            \"recipient\": new_create_assistant,\n",
    "            \"message\": \"based on the previous quotes, come up with your own!\",\n",
    "            \"clear_history\": True,\n",
    "            \"silent\": False,\n",
    "            \"summary_method\": \"reflection_with_llm\"\n",
    "        }\n",
    "    ]\n",
    ")"
   ]
  }
 ],
 "metadata": {
  "kernelspec": {
   "display_name": "agents",
   "language": "python",
   "name": "python3"
  },
  "language_info": {
   "codemirror_mode": {
    "name": "ipython",
    "version": 3
   },
   "file_extension": ".py",
   "mimetype": "text/x-python",
   "name": "python",
   "nbconvert_exporter": "python",
   "pygments_lexer": "ipython3",
   "version": "3.12.4"
  }
 },
 "nbformat": 4,
 "nbformat_minor": 2
}
